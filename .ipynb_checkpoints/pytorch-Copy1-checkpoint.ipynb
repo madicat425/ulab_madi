{
 "cells": [
  {
   "cell_type": "code",
   "execution_count": 3,
   "id": "d0219c8c-c77d-4db1-9c37-698ee57fb882",
   "metadata": {},
   "outputs": [],
   "source": [
    "#make sure on datahub\n",
    "#pytorch\n",
    "    "
   ]
  },
  {
   "cell_type": "code",
   "execution_count": 5,
   "id": "66e5b3b0-fdd5-4e45-9e46-211160a57175",
   "metadata": {},
   "outputs": [],
   "source": [
    "#outline \n",
    "# 0) install pytorch and vocab \n",
    "# 1) get data \n",
    "# 2) build model\n",
    "#3) train model\n",
    "# 4) evaluate performance\n",
    "# 5) comparee model result to actual hidden pattern\n",
    "# 6) improve model \n"
   ]
  },
  {
   "cell_type": "code",
   "execution_count": 2,
   "id": "ab9c5b46-8c3f-4401-8cef-f03169908e22",
   "metadata": {},
   "outputs": [
    {
     "name": "stdout",
     "output_type": "stream",
     "text": [
      "Looking in indexes: https://download.pytorch.org/whl/cpu\n",
      "Requirement already satisfied: torch in c:\\users\\madic\\anaconda3\\lib\\site-packages (2.6.0+cpu)\n",
      "Requirement already satisfied: torchvision in c:\\users\\madic\\anaconda3\\lib\\site-packages (0.21.0+cpu)\n",
      "Requirement already satisfied: torchaudio in c:\\users\\madic\\anaconda3\\lib\\site-packages (2.6.0+cpu)\n",
      "Requirement already satisfied: filelock in c:\\users\\madic\\anaconda3\\lib\\site-packages (from torch) (3.13.1)\n",
      "Requirement already satisfied: typing-extensions>=4.10.0 in c:\\users\\madic\\anaconda3\\lib\\site-packages (from torch) (4.11.0)\n",
      "Requirement already satisfied: networkx in c:\\users\\madic\\anaconda3\\lib\\site-packages (from torch) (3.2.1)\n",
      "Requirement already satisfied: jinja2 in c:\\users\\madic\\anaconda3\\lib\\site-packages (from torch) (3.1.4)\n",
      "Requirement already satisfied: fsspec in c:\\users\\madic\\anaconda3\\lib\\site-packages (from torch) (2024.3.1)\n",
      "Requirement already satisfied: setuptools in c:\\users\\madic\\anaconda3\\lib\\site-packages (from torch) (69.5.1)\n",
      "Requirement already satisfied: sympy==1.13.1 in c:\\users\\madic\\anaconda3\\lib\\site-packages (from torch) (1.13.1)\n",
      "Requirement already satisfied: mpmath<1.4,>=1.1.0 in c:\\users\\madic\\anaconda3\\lib\\site-packages (from sympy==1.13.1->torch) (1.3.0)\n",
      "Requirement already satisfied: numpy in c:\\users\\madic\\anaconda3\\lib\\site-packages (from torchvision) (1.26.4)\n",
      "Requirement already satisfied: pillow!=8.3.*,>=5.3.0 in c:\\users\\madic\\anaconda3\\lib\\site-packages (from torchvision) (10.3.0)\n",
      "Requirement already satisfied: MarkupSafe>=2.0 in c:\\users\\madic\\anaconda3\\lib\\site-packages (from jinja2->torch) (2.1.3)\n",
      "Note: you may need to restart the kernel to use updated packages.\n"
     ]
    }
   ],
   "source": [
    "#install pytorch\n",
    "%pip install torch torchvision torchaudio --index-url https://download.pytorch.org/whl/cpu"
   ]
  },
  {
   "cell_type": "code",
   "execution_count": 2,
   "id": "a60ef1c7-51c7-4a7b-a5da-80dcd58f1516",
   "metadata": {},
   "outputs": [],
   "source": [
    "# model = a function that can learn patterns of data \n",
    "#training = the process of making the models prediction more accurate \n",
    "\n",
    "#AI = \n",
    "\n",
    "#machine learning = \n",
    "\n",
    "#deep learning = "
   ]
  },
  {
   "cell_type": "code",
   "execution_count": 6,
   "id": "3300d718-b77d-4d9a-bef5-1287374dff62",
   "metadata": {},
   "outputs": [],
   "source": [
    "# 1) get our data \n",
    "# import data \n",
    "import data "
   ]
  },
  {
   "cell_type": "code",
   "execution_count": null,
   "id": "789fe7b9-05d4-45e1-981e-91fa4e2ded5e",
   "metadata": {},
   "outputs": [],
   "source": [
    "#lets look at our data \n",
    "import matplotlib.pyplot as plt\n",
    "\n",
    "plt.figure(figsize=(3,3))\n",
    "plt.scatter(data.x_values, data.y_values, c=data.color_values)\n",
    "plt.show()"
   ]
  },
  {
   "cell_type": "code",
   "execution_count": 4,
   "id": "6ee60b53-46ef-4821-b6d6-cf7fcce2ac3c",
   "metadata": {},
   "outputs": [],
   "source": [
    "#build model \n",
    "import torch\n",
    "\n",
    "model = torch.nn.Sequential(\n",
    "    torch.nn.Linear(2,50),\n",
    "    torch.nn.Sigmoid(),\n",
    "    torch.nn.Linear(50,1)\n",
    ")"
   ]
  },
  {
   "cell_type": "code",
   "execution_count": 6,
   "id": "218ec80a-ce47-4cb7-9a83-85ef99d9a78c",
   "metadata": {},
   "outputs": [],
   "source": [
    "# 3 train model \n",
    "#loss function \n",
    "loss_fn = torch.nn.MSELoss()\n",
    "#optimizer n\n",
    "optimizer = torch.optim.Adam(model.parameters(), lr=1e-3)"
   ]
  },
  {
   "cell_type": "code",
   "execution_count": null,
   "id": "f802c0b2-64ef-497a-b32f-752e4c54b222",
   "metadata": {},
   "outputs": [],
   "source": [
    "#loops\n",
    "#training loop\n",
    "#the model will imporve each time it works thru loop\n",
    "for t in range(1000):\n",
    "    y_pred = model(data.x)\n",
    "    loss = loss_fn(y_pred, data.y)\n",
    "    optimizer.zero_grad()\n",
    "    loss.backward()\n",
    "    optimizer.step()\n",
    "    \n",
    "    if t % 100 ==0:\n",
    "        print(f\"Iteration {t}, Loss: {loss.item()}\")\n",
    "\n",
    "\n",
    "\n"
   ]
  },
  {
   "cell_type": "code",
   "execution_count": 2,
   "id": "e017253f-aae8-4bd0-bfb9-e9d93be6d3ff",
   "metadata": {},
   "outputs": [
    {
     "ename": "NameError",
     "evalue": "name 'torch' is not defined",
     "output_type": "error",
     "traceback": [
      "\u001b[1;31m---------------------------------------------------------------------------\u001b[0m",
      "\u001b[1;31mNameError\u001b[0m                                 Traceback (most recent call last)",
      "Cell \u001b[1;32mIn[2], line 2\u001b[0m\n\u001b[0;32m      1\u001b[0m \u001b[38;5;66;03m# 4) eval model \u001b[39;00m\n\u001b[1;32m----> 2\u001b[0m new_x \u001b[38;5;241m=\u001b[39m torch\u001b[38;5;241m.\u001b[39mlinspace(\u001b[38;5;241m-\u001b[39m\u001b[38;5;241m10\u001b[39m,\u001b[38;5;241m10\u001b[39m,\u001b[38;5;241m100\u001b[39m)\n\u001b[0;32m      3\u001b[0m grid \u001b[38;5;241m=\u001b[39m torch\u001b[38;5;241m.\u001b[39mstack(torch\u001b[38;5;241m.\u001b[39mmeshgrid((new_x,new_x)),dim \u001b[38;5;241m=\u001b[39m \u001b[38;5;241m2\u001b[39m)\n\u001b[0;32m      5\u001b[0m output\u001b[38;5;241m=\u001b[39mmodel(grid)\u001b[38;5;241m.\u001b[39mdetach()\n",
      "\u001b[1;31mNameError\u001b[0m: name 'torch' is not defined"
     ]
    }
   ],
   "source": [
    "# 4) eval model \n",
    "new_x = torch.linspace(-10,10,100)\n",
    "grid = torch.stack(torch.meshgrid((new_x,new_x)),dim = 2)\n",
    "\n",
    "output=model(grid).detach()\n",
    "plt.imshow(output,exten(-10,10,-10,10))\n",
    "plt.show()"
   ]
  },
  {
   "cell_type": "code",
   "execution_count": null,
   "id": "6dc5308a-22ce-472b-8443-257419c90e9d",
   "metadata": {},
   "outputs": [],
   "source": []
  }
 ],
 "metadata": {
  "kernelspec": {
   "display_name": "Python 3 (ipykernel)",
   "language": "python",
   "name": "python3"
  },
  "language_info": {
   "codemirror_mode": {
    "name": "ipython",
    "version": 3
   },
   "file_extension": ".py",
   "mimetype": "text/x-python",
   "name": "python",
   "nbconvert_exporter": "python",
   "pygments_lexer": "ipython3",
   "version": "3.12.4"
  }
 },
 "nbformat": 4,
 "nbformat_minor": 5
}
