{
 "cells": [
  {
   "cell_type": "markdown",
   "id": "21a1f0d2-d75c-4443-b816-1d1db3760454",
   "metadata": {},
   "source": [
    "# HW 6 - Iterables\n",
    "ULAB - Physics and Astronomy Division \\\n",
    "Due **Wednesday, October 30th, 2024 at 11:59pm** on Gradescope\n",
    "\n",
    "### REMINDER: Once you are done with this homework, make sure to include a screenshot of you pushing this notebook inside of your homework6 branch. Make sure to include this screenshot in your branch before submitting to Gradescope!\n",
    "\n",
    "### If there is no screenshot, then you will recieve a zero! \n",
    "\n",
    "General Tip (so you don't get silly points taken off):\n",
    "- Make sure **each function** follows good coding practices (i.e. a comment, detailed names, different steps on each line, etc)."
   ]
  },
  {
   "cell_type": "markdown",
   "id": "8dc7e46b-1e8e-486c-a2e9-d615c687028b",
   "metadata": {},
   "source": [
    "# 1 Lists\n",
    "\n",
    "## 1.1 List Slicing and Striding\n",
    "Write a **function** that takes in a list of integers and returns:\n",
    "\n",
    "- the first 5 elements\n",
    "- the last 5 elements\n",
    "- every 2nd element in the list\n",
    "- the list in reverse order.\n",
    "\n",
    "Use the test case below, along with two other ones (that you make-up):\n",
    "\n",
    "```\n",
    "list = [1, 2, 3, 4, 5, 6, 7, 8, 9, 10, 11, 12, 14, 15, 16, 17, 18, 19, 20]\n",
    "```"
   ]
  },
  {
   "cell_type": "code",
   "execution_count": 9,
   "id": "08dabd73-3dbc-4aab-843a-d4b81102835d",
   "metadata": {},
   "outputs": [
    {
     "name": "stdout",
     "output_type": "stream",
     "text": [
      "[1, 2, 3, 4, 5, 6, 7, 8, 9, 10, 11, 12, 14, 15, 16, 17, 18, 19, 20]\n",
      "[1, 2, 3, 4, 5]\n",
      "[16, 17, 18, 19, 20]\n",
      "[1, 3, 5, 7, 9, 11, 14, 16, 18, 20]\n",
      "[20, 19, 18, 17, 16, 15, 14, 12, 11, 10, 9, 8, 7, 6, 5, 4, 3, 2, 1]\n",
      "[0, 4, 8, 12, 16, 20, 24, 28, 32]\n",
      "[0, 4, 8, 12, 16]\n",
      "[]\n",
      "[0, 8, 16, 24, 32]\n",
      "[32, 28, 24, 20, 16, 12, 8, 4, 0]\n",
      "[10, 13, 8, 1, 4, 25, 7, 7, 4, 8]\n",
      "[10, 13, 8, 1, 4]\n",
      "[]\n",
      "[10, 8, 4, 7, 4]\n",
      "[8, 4, 7, 7, 25, 4, 1, 8, 13, 10]\n"
     ]
    }
   ],
   "source": [
    "# Your code here for 1.1\n",
    "your_list = [1, 2, 3, 4, 5, 6, 7, 8, 9, 10, 11, 12, 14, 15, 16, 17, 18, 19, 20]\n",
    "my_1st_list = [ 0, 4, 8, 12, 16, 20, 24, 28, 32]\n",
    "my_2nd_list = [10, 13, 8, 1, 4, 25, 7, 7, 4, 8]\n",
    "# these functions reagraange the list in various orders. your_list is the example list, and my_1st/2nd_list is my own lists \n",
    "\n",
    "# functions for your list:\n",
    "print(your_list)\n",
    "print(your_list[0:5])\n",
    "print(your_list[14:19])\n",
    "print(your_list[::2])\n",
    "print(your_list[::-1])\n",
    "\n",
    "#functions for my 1st list: \n",
    "print(my_1st_list)\n",
    "print(my_1st_list[0:5])\n",
    "print(my_1st_list[14:19])\n",
    "print(my_1st_list[::2])\n",
    "print(my_1st_list[::-1])\n",
    "\n",
    "#functiosn for my 2nd list:\n",
    "print(my_2nd_list)\n",
    "print(my_2nd_list[0:5])\n",
    "print(my_2nd_list[14:19])\n",
    "print(my_2nd_list[::2])\n",
    "print(my_2nd_list[::-1])"
   ]
  },
  {
   "cell_type": "markdown",
   "id": "92c77920-20fc-455e-bf52-10b5a518ed2d",
   "metadata": {},
   "source": [
    "## 1.2 Iterating Over Lists with For Loops\n",
    "Write a **function** that takes in a list, with a **for** loop to return: \n",
    "- the square of each number in the list\n",
    "- the cube of each even number in the list\n",
    "\n",
    "Use the test case below, along with two other ones (that you make-up):\n",
    "\n",
    "```\n",
    "list = [1, 2, 3, 4, 5, 6]\n",
    "```"
   ]
  },
  {
   "cell_type": "code",
   "execution_count": null,
   "id": "5054c807-a247-4159-9ce1-43020bcc3000",
   "metadata": {},
   "outputs": [],
   "source": [
    "# Your code here for 1.2\n",
    "\n"
   ]
  },
  {
   "cell_type": "markdown",
   "id": "e2e075da-c004-400d-b796-5435e096816d",
   "metadata": {},
   "source": [
    "# 2 Dictionaries\n",
    "We have not fully covered **dictionaries** in class, but a **dictionary** is a collection of key-value pairs. Each key is unique and is associated with a specific value. Like a real dictionary! \n",
    "\n",
    "You can create a dictionary by placing key-value pairs inside of curly brackets `{}` with a `:` separating the key from the value. \n",
    "\n",
    "Run the cell below for an example:"
   ]
  },
  {
   "cell_type": "code",
   "execution_count": 13,
   "id": "dbdb0f41-4f57-4524-ab51-ff1fc502bdfc",
   "metadata": {},
   "outputs": [
    {
     "name": "stdout",
     "output_type": "stream",
     "text": [
      "{'Mercury': 0.39, 'Venus': 0.72, 'Earth': 1.0, 'Mars': 1.52, 'Jupiter': 5.2, 'Saturn': 9.58, 'Uranus': 19.22, 'Neptune': 30.05}\n"
     ]
    }
   ],
   "source": [
    "# A dictionary that contains some data about the planets in our solar system\n",
    "planet_data = {\n",
    "    \"Mercury\": 0.39, \n",
    "    \"Venus\": 0.72,\n",
    "    \"Earth\": 1.00, # distance from the Sun in AU\n",
    "    \"Mars\": 1.52,\n",
    "    \"Jupiter\": 5.20,\n",
    "    \"Saturn\": 9.58,\n",
    "    \"Uranus\": 19.22,\n",
    "    \"Neptune\": 30.05\n",
    "}   \n",
    "\n",
    "print(planet_data) # print the dictonary"
   ]
  },
  {
   "cell_type": "markdown",
   "id": "886c93f4-0027-4969-ba67-cc12eca04c9c",
   "metadata": {},
   "source": [
    "## 2.1 Looping through a dictionary\n",
    "Write a function that takes in the `planet_data` dictionary and uses a `for` loop to print the names of each of the planets and its distance from the sun."
   ]
  },
  {
   "cell_type": "code",
   "execution_count": 19,
   "id": "a3ab065a-42f5-4aa0-8e0f-38e87c583464",
   "metadata": {},
   "outputs": [
    {
     "name": "stdout",
     "output_type": "stream",
     "text": [
      "Mercury: 0.39 AU\n",
      "Venus: 0.72 AU\n",
      "Earth: 1.0 AU\n",
      "Mars: 1.52 AU\n",
      "Jupiter: 5.2 AU\n",
      "Saturn: 9.58 AU\n",
      "Uranus: 19.22 AU\n",
      "Neptune: 30.05 AU\n"
     ]
    }
   ],
   "source": [
    "# Your code here for 2.1\n",
    "def print_planet_distances(planet_data):\n",
    "    for planet, distance in planet_data.items():\n",
    "        print(f\"{planet}: {distance} AU\")\n",
    "\n",
    "print_planet_distances(planet_data)"
   ]
  },
  {
   "cell_type": "markdown",
   "id": "2b38b6fb-ce68-4f20-a8a1-ba241e8db53e",
   "metadata": {},
   "source": [
    "## 2.2 Dictionaries and Conditionals\n",
    "Write a function that uses a while loop to print all the planets that are a minimum distance of 5 AU from the Sun. "
   ]
  },
  {
   "cell_type": "code",
   "execution_count": 33,
   "id": "6e07cf13-efba-4a75-ad75-0428dc31108d",
   "metadata": {},
   "outputs": [
    {
     "name": "stdout",
     "output_type": "stream",
     "text": [
      "Jupiter: 5.2 AU\n",
      "Saturn: 9.58 AU\n",
      "Uranus: 19.22 AU\n",
      "Neptune: 30.05 AU\n"
     ]
    }
   ],
   "source": [
    "# Your code here for 2.2\n",
    "def print_planet_distances_greater_than_5AU(planet_data):\n",
    "    planets = list(planet_data.items())\n",
    "    i=0\n",
    "    while i <len(planets):\n",
    "        planet, distance = planets[i]\n",
    "        if distance > 5:\n",
    "            print(f\"{planet}: {distance} AU\")\n",
    "        i+=1    \n",
    "print_planet_distances_greater_than_5AU(planet_data)"
   ]
  },
  {
   "cell_type": "markdown",
   "id": "5e1ba0c0-5dd9-44e8-895c-73a36d614949",
   "metadata": {},
   "source": [
    "# 3 Observing Stars in a Cluster\n",
    "Your goal is to calculate the total brightness of a group of stars in a star cluster and estimate how long it would take for a telescope to observer each star, depending on their brightness (magnitude). Here is some background information:\n",
    "- The brightness of a star, from a telescope, is measured by its **apparent magnitude**, a LOWER magnitude means a brighter star. A HIGHER magnitude means a fainter star. So a 4th magnitude star is much brighter than a 17th magnitude star.\n",
    "- To convert magnitude into brightness, use the following formula\n",
    "$$\n",
    "\\text{Brightness} = 10^{-\\frac{\\text{magnitude}}{2.5}}\n",
    "$$\n",
    "\n",
    "Use this list of magnitudes and time limit:\n",
    "\n",
    "```\n",
    "magnitudes = [12.5, 13.2, 14.8, 19.1, 21.0, 18.5, 15.3, 10.5, 23.0]\n",
    "time_limit = 500\n",
    "```\n",
    "\n",
    "Expected outcome (your solutions with be the answers to the ???):\n",
    "- Total brightness of the stars: ???\n",
    "- Total observation time for all observable stars: ???\n",
    "- Number of stars that can be observed within 500 seconds: ???"
   ]
  },
  {
   "cell_type": "markdown",
   "id": "336785a7-71bf-434d-982c-dd72dd29cf71",
   "metadata": {},
   "source": [
    "## 3.1 Calculate Brightness\n",
    "1) Write a **function** which inputs a list of star magnitudes (brightnesses).\n",
    "2) Inside your function, use a `for` loop to calculate (with the given formula) the brightness of each star.\n",
    "3) Inside your function, use a `for` loop to sum up the total brightness of all the stars.\n",
    "5) Have your function return the **total brightness** of all the stars and a **list of the brightnesses** of the stars.\n",
    "6) Test out your function with the **given** magnitude values."
   ]
  },
  {
   "cell_type": "code",
   "execution_count": 7,
   "id": "ccc331f4-c029-4a82-810b-4a78d0fa1a2a",
   "metadata": {},
   "outputs": [],
   "source": [
    "\n",
    "def calculating_brightness(magnitudes):\n",
    "    # setting up to calculate brightnesses for the stars \n",
    "    brightnesses = []\n",
    "    for m in magnitudes:\n",
    "        brightness = 10 ** (-m / 2.5)\n",
    "        brightnesses.append(brightness)\n",
    "    # sum all brightnesses \n",
    "    total_brightness = sum(brightnesses)\n",
    "    return total_brightness, brightnesses\n",
    "\n",
    "magnitudes = [12.5, 13.2, 14.8, 19.1, 21.0, 18.5, 15.3, 10.5, 23.0]\n",
    "\n",
    "total_brightness, brightnesses = calculating_brightness(magnitudes)\n",
    "\n",
    "\n",
    "\n",
    "    \n",
    "    \n"
   ]
  },
  {
   "cell_type": "markdown",
   "id": "9aff0e1c-9f88-4ebb-a05b-d39363d9e88e",
   "metadata": {},
   "source": [
    "## 3.2 Observation Time\n",
    "1) Write a **function** which inputs a list of star magnitudes (brightnesses).\n",
    "2) Inside your function, use a `for` loop to calculate the time to observe each star.\n",
    "- You can just assume each star's observation time is inversely proportional to its brightness with the following formula:\n",
    "\n",
    "$$\n",
    "\\text{Observation Time (in seconds)} \\propto \\frac{1}{\\text{Brightness}} \n",
    "$$\n",
    "\n",
    "3) Inside you function, write a `condition` that ignores stars that have a magnitude greater than 20 (very very faint stars).\n",
    "4) Have your function return the **total observation time** (ignoring >20 magnitudes) and a **list of the times** it would take to observe each individual star.\n",
    "5) Test out your function with the **given** magnitude values."
   ]
  },
  {
   "cell_type": "code",
   "execution_count": 9,
   "id": "044d17cf-82a8-44b6-8958-447632f713f6",
   "metadata": {},
   "outputs": [],
   "source": [
    "# Your code here for 3.2\n",
    "def observation_time(magnitudes, time_limit):\n",
    "    observation_times = []\n",
    "    total_observation_time = 0\n",
    "\n",
    "    for magnitude in magnitudes:\n",
    "        # ignore stars with magnitude > 20\n",
    "        if magnitude <= 20:\n",
    "            brightness = 10 ** (-magnitude / 2.5)\n",
    "            time = 1 / brightness  # observation time inversely proportional to brightness\n",
    "            observation_times.append(time)\n",
    "            total_observation_time += time\n",
    "\n",
    "    return total_observation_time, observation_times\n",
    "magnitudes = [12.5, 13.2, 14.8, 19.1, 21.0, 18.5, 15.3, 10.5, 23.0]\n",
    "time_limit = 500  # Given time limit\n",
    "\n",
    "\n",
    "total_time, observation_times = observation_time(magnitudes, time_limit)\n",
    "\n",
    "\n",
    "\n",
    "\n"
   ]
  },
  {
   "cell_type": "markdown",
   "id": "102d3c15-0b4f-48a7-8fdc-f896c1841aca",
   "metadata": {},
   "source": [
    "## 3.3 Time Until the Limit\n",
    "1) Write a **function** which inputs a list of star magnitudes (brightnesses) and time limit.\n",
    "   - Make your time limit a default argument.\n",
    "2) Inside your function, make a counter called `total time` and set it to 0.\n",
    "3) Inside your function, use a `while` loop to set the time limit of your observation.\n",
    "4) Inside your function, use assigment operators to update the `total time` observed. \n",
    "5) Inside your function, use a `condition` to skip stars with magnitude 20 or greater. \n",
    "6) Have your function return the **number of stars that can be observed** within the time limit and **how long the observation will take** (this should be less than the time limit).\n",
    "7) Test out your function with the **given** magnitude values and time limit."
   ]
  },
  {
   "cell_type": "code",
   "execution_count": 35,
   "id": "5a541a62-0903-41bd-91c9-ee21172069a3",
   "metadata": {},
   "outputs": [
    {
     "name": "stdout",
     "output_type": "stream",
     "text": [
      "Number of stars observed within time limit: 0\n",
      "Total observation time: 0\n"
     ]
    }
   ],
   "source": [
    "# Your code here for 3.3\n",
    "\n",
    "\n",
    "def observe_stars(magnitudes, time_limit=500):\n",
    "    total_time = 0\n",
    "    stars_observed = 0\n",
    "\n",
    "    i = 0\n",
    "    while total_time < time_limit and i < len(magnitudes):\n",
    "        magnitude = magnitudes[i]\n",
    "        \n",
    "        # skip stars with magnitude >= 20\n",
    "        if magnitude < 20:\n",
    "            brightness = 10 ** (-magnitude / 2.5)\n",
    "            observation_time = 1 / brightness  # observation time is inversely proportional to brightness\n",
    "            \n",
    "            \n",
    "            if total_time + observation_time > time_limit:\n",
    "                break  # stop if observing this star would exceed the time limit\n",
    "\n",
    "          \n",
    "            total_time += observation_time\n",
    "            stars_observed += 1\n",
    "\n",
    "        # move to the next star\n",
    "        i += 1\n",
    "\n",
    "    return stars_observed, total_time\n",
    "magnitudes = [12.5, 13.2, 14.8, 19.1, 21.0, 18.5, 15.3, 10.5, 23.0]\n",
    "time_limit = 500\n",
    "stars_observed, total_time = observe_stars(magnitudes, time_limit)\n",
    "\n",
    "print(\"Number of stars observed within time limit:\", stars_observed)\n",
    "print(\"Total observation time:\", total_time)\n"
   ]
  },
  {
   "cell_type": "markdown",
   "id": "d2ab246f-9570-483e-b35b-cf1056f20936",
   "metadata": {},
   "source": [
    "## 3.4 Call Upon Your Functions\n",
    "You do not need to rewrite your functions once you have written them! That's what is so awesome about **functions**! \n",
    "\n",
    "1) With a new test case (different magnitudes and time limit) call your three functions you wrote above.\n",
    "2) Print out their return statements, example:\n",
    "\n",
    "```\n",
    ">>> my_return = my_function(my_argument):\n",
    ">>> print(my_return)\n",
    "```"
   ]
  },
  {
   "cell_type": "code",
   "execution_count": 39,
   "id": "4c4c9389-04f5-49bc-823c-a12d6c003b60",
   "metadata": {},
   "outputs": [
    {
     "name": "stdout",
     "output_type": "stream",
     "text": [
      "Total brightness of stars: 8.037198248279666e-05\n",
      "Total observation time (ignoring stars with magnitude > 20): 0\n",
      "Individual observation times: [99999.99999999999, 190546.07179632442, 831763.7711026708, 43651583.22401666, 25118864.315095823, 1318256.7385564074, 15848.931924611143]\n",
      "Number of stars observed within time limit: 0\n",
      "Total observation time: 0\n"
     ]
    }
   ],
   "source": [
    "# Your code here for 3.4\n",
    "\n",
    "magnitudes = [10.2, 11.8, 16,9, 19.99, 18.54, 19.0, 4.25, 11.17]\n",
    "time_limit = 1000000\n",
    "#3.1 calculating brightnesses \n",
    "print(\"Total brightness of stars:\", total_brightness)\n",
    "\n",
    "#3.2 observation time \n",
    "print(\"Total observation time (ignoring stars with magnitude > 20):\", total_time)\n",
    "print(\"Individual observation times:\", observation_times)\n",
    "\n",
    "#3.3 time until limit \n",
    "print(\"Number of stars observed within time limit:\", stars_observed)\n",
    "print(\"Total observation time:\", total_time)\n"
   ]
  },
  {
   "cell_type": "markdown",
   "id": "daba92d4-a646-4efc-824d-85b52ea3c573",
   "metadata": {},
   "source": [
    "# 4 Debug the Quadratic Function!\n",
    "The code below does not follow proper coding hygiene (good coding sklls) and is riddled with bugs! Answer the following question and follow the steps below:\n",
    "1) When you run the cell, what is the first error you get? What does this mean? What are three other things wrong with this function?\n",
    "2) Fix the bugs! No importing packages.\n",
    "3) Rewrite the code, such that it follows \"good coding skills\".\n",
    "\n",
    "Try out the test case of `a = 2`, `b = -5` and `c = 3`. You should get `(1.5, 1.0)`. Try out your own test case as well."
   ]
  },
  {
   "cell_type": "code",
   "execution_count": 26,
   "id": "cd66dd28-f8d3-447c-8d20-ff3e31bfaa07",
   "metadata": {},
   "outputs": [],
   "source": [
    "def quadratic_function(a, b = [1, 10, -5], c = 3):\n",
    "    new_b = b[0]\n",
    "    bottom = 2*a\n",
    "    a = 2\n",
    "    bottom = 2*a\n",
    "    if bottom == 0:\n",
    "        raise ValueError(\"denominator (bottom) cannot be 0.\")\n",
    "    pos_answer == (-new_b + math.sqrt(new_b**2 - 4 * a * c)) / bottom \n",
    "    neg_answer = (-new_b - math.sqrt(new_b**2 - 4 * a * c)) / bottom\n",
    "    \n",
    "    return [(max(neg_answer, pos_answer), min(neg_answe, pos_answer)) for i in range(55)]\n",
    "\n",
    "    result = quadratic_formula(2, -5, 3)\n",
    "    print(result)\n",
    "\n",
    "        #when i first run the cell, i get an error on line 5 that there is a syntax error of an invalid decimal literal. \n",
    "        #In this code, there is not much labled, making it hard to understand the reason of this function\n",
    "        #there are no parentheses for the quadratic function, which is ruining the math, and c is equal to \"three\" instead of 3, and bottom = two * a instead of 2*a \n",
    "        #The print line is incomplete, and the return function is wrong. the while loop isnt the best choice for the problem \n",
    "        # to fix these, I swicthed all of the strings of numbers to an integer, i changed the while loop into an \"if\" loop \n",
    "        #i also changed the b's in the pos/neg answers to be new_b's since that was a defined variable, and chnaged the format to a math.sqrt since that was useable in this case\n",
    "        # I deleted the second neg_answer function since it was already defined above\n",
    "    "
   ]
  },
  {
   "cell_type": "markdown",
   "id": "8cf33b19-9bca-484e-8129-d8a4896a1bfa",
   "metadata": {},
   "source": [
    "# 5 Proper Submission\n",
    "To recieve full credit for this assignment make sure you do the following:\n",
    "1) Copy this jupter notebook from the `ulab_2024` repository into **YOUR** local `homework` branch.\n",
    "   \n",
    "3) Follow the tasks. Make sure to run all the cells so that all output is visible.\n",
    "   \n",
    "5) Push this notebook to your remote `homework6` branch. Refer to the lecture slides for more information.\n",
    "      \n",
    "6) **WARNING!! IF YOU DO NOT FOLLOW THIS STEP YOU WILL RECIEVE A ZERO!**\n",
    "   1) Take a screenshot of your command line when you `push` this notebook from your local `homework6` branch to your remote `homework6` branch. Make sure to prove that you are inside a branch besides `main` or `master` by calling `git branch` and make sure to prove that your `homework6` branch only contains the homework4 folder of Jupyter Notebook you copied over from `ulab_2024` (which can be done by calling `ls`). You could also call `git status` before/after as a way to prove you pushed the proper files to the correct branches.\n",
    "   2)  Include that screenshot in your remote branch when you upload your GitHub branch to Gradescope!"
   ]
  },
  {
   "cell_type": "code",
   "execution_count": null,
   "id": "b0926042-d1cf-4a2e-8fc8-d93395a6a7cf",
   "metadata": {},
   "outputs": [],
   "source": []
  }
 ],
 "metadata": {
  "kernelspec": {
   "display_name": "Python 3 (ipykernel)",
   "language": "python",
   "name": "python3"
  },
  "language_info": {
   "codemirror_mode": {
    "name": "ipython",
    "version": 3
   },
   "file_extension": ".py",
   "mimetype": "text/x-python",
   "name": "python",
   "nbconvert_exporter": "python",
   "pygments_lexer": "ipython3",
   "version": "3.12.4"
  }
 },
 "nbformat": 4,
 "nbformat_minor": 5
}
