





import numpy as np





# Your code here
my_list = [4, 8, 9, 20, 27]
my_arr =  np.array([4, 8, 9, 20, 27])






# Your code here
my_list = 4* [4, 8, 9, 20, 27]
my_arr= 4*(np.array([4, 8, 9, 20, 27]))
print(my_list)
print(my_arr)
#when i multiply the list by four, it prints the list 4 time over. when i multiply the array by 4, it multiplies each number by 4.





# Your code here
result1 = my_list + np.array(my_list)
result2= my_list + my_list
result3 = my_arr + my_arr
print( result1, result2, result3)
#when i print the lists added together,they repeat, while the arrays add together numerically. when i add the list and array,its treated like an array and addss them together





# Your code here
result1 = my_list - np.array(my_list)
result2= np.array(my_list) - np.array(my_list)
result3 = my_arr - my_arr
print( result1, result2, result3)
#i had to convert my lists into numpys since they were printing errors. when i do this, i get zeros across the board, execpt my array result only has 5 zeros while my lists have 20





# Your code here
result1 = my_list * np.array(my_list)
result2= np.array(my_list) * np.array(my_list)
result3 = my_arr *my_arr
print( result1, result2, result3)
#when i multiply the two lists, they give the same results as hen i multly my list and my array. when i pultiply the two arrays, they multiply by each element. 





# Your code here
result1 = my_list / np.array(my_list)
result2= np.array(my_list) / np.array(my_list)
result3 = my_arr /my_arr
print( result1, result2, result3)
#they all print .1 but the lists and the list with the array print 20 of them while the arrays keep their 4 indexes





# lists operate very opposite of each other, once a list is created, you cannot change the values inside of the list unless brigning up that desired function. Lists can also hold floats, integers, or text while arrays operate with integers and decimals only. Arrays are more bulit for mathematical functions and can perform more synthesized responses. 





# Your code here
def second_value(arr):
  #this function will print the second row 
    return[row[1] for row in arr]

arr3 = np.array([[2,3,4], [5,6,7], [8,9,10]])
result = second_value(arr3)
print(result)






# i used the numpy array indexing section, where it said how to print only a certain value of the array. I used this format to print my code. 








# Your code here





# Your code here





# Your comment here





# Your code here





# Your code here





# Your code here





rocket_velocities = np.array([
    [1000, 5000, 8000, 12000],  # Rocket 1's velocity at different times
    [2000, 6000, 9000, 10000],  # Rocket 2
    [3000, 3100, 3200, 3300]    # Rocket 3
])

mass_of_planet = 5.972e24 # kilograms
radius_of_planet = 6.371e6 # meters


# Your code here





# Your comments here





# Your comment here





# Your comment here





# Your code here





# Your code here



