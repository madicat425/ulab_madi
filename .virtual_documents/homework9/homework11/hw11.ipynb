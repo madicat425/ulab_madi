





# I certify that I did not use AI tools, such as ChatGPT, to generate or write code for this assignment. All work submitted is my own and reflects my understanding of the material -Madi Catalano





def calculate_orbital_period(a):
    #orbital period function
    T = a**(3/2)
    return T





semimajor_axis_planet_a = 0.5
semimajor_axis_planet_b = 1.0
semimajor_axis_planet_c = 1.5

orbital_period_a = calculate_orbital_period(semimajor_axis_planet_a)
orbital_period_b = calculate_orbital_period(semimajor_axis_planet_b)
orbital_period_c = calculate_orbital_period(semimajor_axis_planet_c)

print(f"The orbital period for planet a is: {orbital_period_a}")
print(f"The orbital period for planet b is: {orbital_period_b}")
print(f"The orbital period for planet c is: {orbital_period_c}")





import numpy as np





# numpy only needs to be called once per session, and its functions can be used so long as the kernal is active. However, once you open a new notebook, or restart the kernal, it will need to be imported again





def calculate_orbital_period(a):
    #orbital period function
    T = np.power(a, 3/2)
    return T






import time 





def calculate_orbital_period(a):
    #orbital period function
    T = np.power(a, 3/2)
    return T
semimajor_axis_a = 5
orbital_period_a = calculate_orbital_period(semimajor_axis_a)
print(f"The orbital period for a is: {orbital_period_a}")





# The numpy function was slightly faster than the other function. This shows me that numpy functions are very efficent and are made for computing different functions swiftly





#this is a list of 1000000 random semimajor axes values between 1 and 100. 
semimajor_axes_a = np.random.uniform(1, 100, 1000000)
print(semimajor_axes_a[:10])





# this is a list of at least 1000000 random semimajor axis values 
semimajor_axes_b = [i for i in range(1,1000000)]
print(semimajor_axes_b[:10])





#The numpy function is once again fast, and produces moire randomized values. This tells me that numpy is a better choice for these kinds of functions








radii = [1.2, 0.8, 1.5, 2.0, 1.0, 0.6]
temperatures = [300, 400, 350, 280, 500, 450] # Kelvin

#find planets w temps below 350 K
def find_planets(temperatures, radii):
    filtered_radii = []
    for i in range(len(temperatures)):
        if temperatures[i] < 350:
            filtered_radii.append(radii[i])
    return filtered_radii
    
result = find_planets(temperatures, radii)       
print(result)





# extract and print the first three radii of the first three planets 
first_three_radii = radii[:3]
print(first_three_radii)





# Your code here





# Your code here





# Your code here





semimajor_axes_b = np.array([i for i in range(1, 1000000)])
print(semimajor_axes_b[:10])





semimajor_axes_b = np.array([i for i in range(1, 1000000)])

mean = np.mean(semimajor_axes_b)
median = np.median(semimajor_axes_b)
min = np.min(semimajor_axes_b)
max = np.max(semimajor_axes_b)

print(f"Mean: {mean}")
print(f"Median: {median}")
print(f"Minimum: {min}")
print(f"Max: {max}")





semimajor_axes_b = np.array([i for i in range(1, 1000000)])
#calculates the standard deviantion of the array
standard_deviation = np.std(semimajor_axes_b)
print(f"Standard Deviation: {standard_deviation}")





radii = [1.2, 0.8, 1.5, 2.0, 1.0, 0.6]
temperatures = [300, 400, 350, 280, 500, 450]

multi_d_array= np.array([radii, temperatures])
print(multi_d_array)





# Your code here





# Your code here





# Your code here





# Your code here





# Your code here





# Your code here
