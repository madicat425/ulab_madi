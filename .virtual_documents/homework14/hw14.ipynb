





from astropy import units as u





distance = 60* (u.kilometer/u.hour)
print(distance.to(u.meter/u.second))





print("a julian date is a way for astronomers to measure time in days starting from noon UT on January 1st 4713 BCE")





print("The Gregorian Calander is the standard calander we are familiar with, ex: March 2, 2025")





from astropy.time import Time





now = Time.now()
print(now)





time2= Time("1969-07-02 20:17:00")
print(time2.jd)





print("NASA was preparing for the apollo 11 moon landing")





from astropy.coordinates import SkyCoord, Galactic, AltAz, EarthLocation





object = SkyCoord(ra = 15*u.deg, dec = -20*u.deg, frame = 'icrs')
object_time = Time.now()
print(f"Coordinates of object: {object.to_string('hmsdms')}")
print(f"Currect observation time: {object_time}")





object_galactic = object.transform_to(Galactic())
print(object_galactic)





#icrs coordinates of object 
object_icrs = SkyCoord(ra = 15*u.deg, dec = -20*u.deg, frame = 'icrs')
#setting location
campbell = EarthLocation(lat = 37.8*u.deg, lon = -122.2*u.deg, height = 1*u.m)
obs_time=Time.now()
#making altaz frame
altaz = AltAz(obstime=obs_time, location= campbell)
#making the transformation
object_altaz = object_icrs.transform_to(altaz)
print(object_altaz)





from astropy.io import fits





from astropy.utils.data import download_file





import numpy as np





image_file = download_file('http://data.astropy.org/tutorials/FITS-images/HorseHead.fits', cache=True)





filename = "http://data.astropy.org/tutorials/FITS-images/HorseHead.fits" 
image_data = fits.getdata(filename)
with fits.open(image_file) as hdul:
    hdul.info()
    data = hdul[0].data
    header = hdul[0].header

#print(header)





brightest_pixel = np.max(image_data)
print(brightest_pixel)





dimmist_pixel = np.min(image_data)
print(dimmist_pixel)





from astropy.table import Table





#defining the names, maginitudes, spectral types of stars 
star_names = ['Betelgeuse' , 'Sirius', 'Vega']
magnitudes = [0.42, -1.46, 0.03]
type = ['M1-M2', 'A0mA1 Va', 'K0 III']
#making table
star_table = Table([star_names, magnitudes, type],
                   names=('Name', 'Magnitude', 'Spectral Type'))
print(star_table)





star_table.write("star_table.fits", format='fits', overwrite=True)





star_table_fits = Table.read("star_table.fits", format='fits')
print(star_table_fits)





print("an HR diagram is a scatter plot that relates the luminosity and mangitudes of a star with their temperature, and classifies them into their respective spectral types")





import pandas as pd





df = pd.read_csv('cluster_data.tsv',
                 skiprows=44,
                 sep=';',
                 header =None,
                 index_col=0,
                 names = ['HIP','Vmag','Plx','B-V','SpType'],
                 skipfooter =1,
                 engine='python')





print(df.head())





df_clean = df.applymap(lambda x: np.nan if isinstance(x, str) and x.isspace() else x)





df_sorted = df_clean.dropna()
print(df_sorted.head())





df_sorted[['Vmag', 'Plx', 'B-V']] = df_sorted[['Vmag', 'Plx', 'B-V']].astype(float)

# Display dataset summary
print(df_sorted.describe())





df_sorted['M_V'] = df_sorted['Vmag'] + 5 * np.log10(df_sorted['Plx'] / 100)
print(df_sorted[['Vmag', 'Plx', 'M_V']].head())





print("the cell above is calculating the absolte magnitude of the first couple stars in the dataframe")





# Extract the first two characters (e.g., 'G2', 'K3')
df_sorted['SpType2'] = df_sorted['SpType'].str[:2]

# Keep only valid spectral classes
df_sorted = df_sorted[df_sorted['SpType2'].str.match(r'^[OBAFGKM][0-9]')]

# Display unique spectral types
print(df_sorted['SpType2'].unique())





print("O is the hottest stars and M is the coldest")





order = {'O': 0, 'B': 1, 'A': 2, 'F': 3, 'G': 4, 'K': 5, 'M': 6}
df_sorted['SpType2_numeric'] = df_sorted['SpType2'].apply(lambda x: order[x[0]]*10 + int(x[1]))





import matplotlib.pyplot as plt





plt.scatter( x = df_sorted['SpType2_numeric'], y = df_sorted['M_V'], s =5, alpha = 0.3, c='k')
plt.xlim(0,70)
plt.ylim(15,-10)
plt.xticks(range(5,75,10))
plt.xticklabels(['O', 'B', 'A', 'F', 'G', 'K', 'M'])
plt.xlabel('Spectral Type')
plt.ylabel('Absolute Magnitude')
plt.title('H-R Diagram (Hipparos catalog)')
plt.show()





plt.scatter( x = df_sorted['B-V'], y = df_sorted['M_V'], s =5, alpha = 0.3, c='k')
plt.xlim(-0.5,2.5)
plt.ylim(15,-10)
plt.xlabel('Color Index (B-V)')
plt.ylabel('Absolute Magnitude')
plt.title('H-R Diagram (Hipparos catalog)')
plt.show()





def plot_luminosity_class(df, label, color):
    mask = df['SpType'].str.contains(label, na=False)
    plt.scatter(df[mask]['B-V'], df[mask]['M_V'], s=5, label=label, c=color, alpha=0.5)

plt.figure(figsize=(8,10))
plt.grid()
plt.xlim(-0.5, 2.5)
plt.ylim(15, -10)
plt.xlabel('Color Index (B-V)')
plt.ylabel('Absolute Magnitude')
plt.title('H-R Diagram with Luminosity Classes')

plot_luminosity_class(df_sorted, 'V', 'black')  # Main Sequence
plot_luminosity_class(df_sorted, 'III', 'green')  # Giants
plot_luminosity_class(df_sorted, 'I', 'red')  # Supergiants

plt.legend()
plt.show()






# with
fig, axes = plt.subplots(1, 2, figsize=(12, 6))

def plot_luminosity_class(df, label, color, ax):
    mask = df['SpType'].str.contains(label, na=False)
    ax.scatter(df[mask]['B-V'], df[mask]['M_V'], s=5, label=label, c=color, alpha=0.5)
axes[0].grid()
axes[0].set_xlim(-0.5, 2.5)
axes[0].set_ylim(15, -10)
axes[0].set_xlabel('Color Index (B-V)')
axes[0].set_ylabel('Absolute Magnitude')
axes[0].set_title('H-R Diagram with all Luminosity Classes')

plot_luminosity_class(df_sorted, 'V', 'black',axes[0])  # Main Sequence
plot_luminosity_class(df_sorted, 'III', 'green',axes[0])  # Giants
plot_luminosity_class(df_sorted, 'I', 'red',axes[0]) # Supergiants
plot_luminosity_class(df_sorted, 'VI', 'blue',axes[0]) #subdwarfs
plot_luminosity_class(df_sorted, 'VII', 'yellow',axes[0]) #white dwarfs
plot_luminosity_class(df_sorted, 'IV', 'purple',axes[0]) #subgiants
plot_luminosity_class(df_sorted, 'II', 'orange',axes[0]) #bright giants
axes[0].legend()


#without
axes[1].grid()
axes[1].set_xlim(-0.5, 2.5)
axes[1].set_ylim(15, -10)
axes[1].set_xlabel('Color Index (B-V)')
axes[1].set_ylabel('Absolute Magnitude')
axes[1].set_title('H-R Diagram with some Luminosity Classes')

plot_luminosity_class(df_sorted, 'VI', 'blue',axes[1]) #subdwarfs
plot_luminosity_class(df_sorted, 'VII', 'yellow',axes[1]) #white dwarfs
plot_luminosity_class(df_sorted, 'IV', 'purple',axes[1]) #subgiants
plot_luminosity_class(df_sorted, 'II', 'orange',axes[1]) #bright giants
axes[1].legend()


plt.show()



