#string
print("hello,world")


str



#boolean
type(False)


#list
type( [1,2,3])


type(["python",3.14, True])


#dictionary
type({"color" : "blue"})


#Tuple
type((1,2))


#set
type({1,2})


# integers, floats, strings
