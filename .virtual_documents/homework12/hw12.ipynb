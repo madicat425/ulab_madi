





# I certify that I did not use AI tools such as ChatGPT to generate or write code for this assignment. All work submitted is my own and reflects my understanding of the material -Madi catalano





import pandas as pd 








df_data = pd.read_csv('exoplanet_data.csv')
print(df_data.columns)





print(df_data.columns.tolist()) # changes the format of the data from columns to a nicer, cleaner list





print(df_data['pl_name'])





num_planets = df_data.shape[0] #counts the number of planets assuming the amount is the amount of rows 
print(num_planets)






planet_data = df_data[['pl_name' , 'pl_rade', 'pl_bmassj' , 'pl_eqt']]





print(planet_data)





import matplotlib.pyplot as plt #importing matplotlib 

x = df_data['pl_rade'] # defining x as planet earth radius
y = df_data['pl_eqt'] #defining y as planet equilibrium temperature

plt.figure(figsize=(8,6))
plt.scatter(x, y, alpha=0.5)
plt.xlabel('Exoplanet Radius (in Earth Radii)')
plt.ylabel('Exoplanet Equilibrium Temperature (K)')
plt.title('Exoplanet Earth Radius vs. Equilibrium Temperatures')

plt.show()






# I notice that the higher the equilibrium temperature, the larger the radius, and there is a pretty large jump from the equilibrium temp of 1200K and radius of 11 earth Radii to an equilibrium temp of 2050K, and 23 earth radii.





# cool_planet_index = df_data.loc['pl_eqt'].idxmin()#finds the minimum in the column of equilibrium temperature 
coldest_planet = planet_data.loc[planet_data['pl_eqt'].idxmin()]
print(f"Planet: {coldest_planet['pl_name']}, Temperature: {coldest_planet['pl_eqt']} K")






planet_data_NaN = planet_data.dropna(subset=['pl_eqt']) #drops NaN values
coldest_index = planet_data_NaN['pl_eqt'].idxmin() #i had to look this up on ChatGPT because I kept getting the same error
coldest_planet_data = planet_data.iloc[[coldest_index]]
print(coldest_planet_data)






coldest_planet_data.shape[1]





filtered_data = planet_data.dropna(axis=1)
print(filtered_data)





filtered_data.shape[1]





# A temperate super-Jupiter imaged with JWST in the mid-infrared





# The main conclusions they draw is that planet eps Ind A is the coldest exoplanet that they have found yet. I trust their methods because they ran multiple comparisons when they found the data, but their large error bars could be considered questionable





# the temperature of 275K, pl_bmassj =6.31





# i couldnt find anything I am so sorry this homework is the bane of my existence :,)





# 3.7–5.7 or 3.5 (+0.8/-1.3) Gyr





planet_data_NaN.loc[:,'Age'] = 3.58
print(planet_data_NaN)








planet_data_NaN.to_csv('cleaned_planet_data.csv', index=False)

print("File saved successfully as 'cleaned_planet_data.csv'")



