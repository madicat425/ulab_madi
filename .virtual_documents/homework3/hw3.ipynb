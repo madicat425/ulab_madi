





# reminder: if a "#" is in front of a line of code, your computer will NOT read it
# have python print the following message by running this cell:
print("Python is awesome!")





age = 20 # this is a variable (specifically an integer)
print("The age is:", age)





# your code here
year = 2024
print("the current year is: ", year)






# your code here
temperature = 98.1
type(temperature)





# your code here
name = "madi"
print(name)





# your code here
weekend = False
print(weekend)





# your code here
favorite_colors = ["purple" , "green" , "maroon"]
type(favorite_colors)





answer = 2 + 2 * 5
print(answer)


num1 = 4
num2 = 6
print(num1 + num2)





# your code here
radius = 5 
pi = 3.14159265358979323
print(pi*radius*radius)





print("Something is wrong")



