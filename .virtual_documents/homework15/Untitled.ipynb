with open(r"C:\Users\madic\ulab\ulab_madi\homework15\example_solar_system_animation.mp4", "rb") as file:
    data = file.read()



