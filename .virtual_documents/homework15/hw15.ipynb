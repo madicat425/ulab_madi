





from IPython.display import Video
import numpy as np
import matplotlib.pyplot as plt
import matplotlib.animation as animation
# Display the video
Video("example_solar_system_animation.mp4")


# Your comment here





# Your code here





# Your comment here





# Your code here





# Your code here





# Your code here





# Your code here





# Your code here





# Your code here





# Your code here





# Your code here





# Your code here





# Store the orbits:





# Your code here
################ Earth #############
rx, ry, rz = xe - xs, ye - ys, ze - zs
modr3_e = (rx**2 + ry**2 + rz**2)**1.5
fx_e = -gravconst_e * rx / modr3_e
fy_e = -gravconst_e * ry / modr3_e
    
xve += fx_e * dt / Me
yve += fy_e * dt / Me
xe += xve * dt
ye += yve * dt
    
xelist.append(xe)
yelist.append(ye)

################ Mars ##############
rx_m, ry_m, rz_m = xm - xs, ym - ys, zm - zs
modr3_m = (rx_m**2 + ry_m**2 + rz_m**2)**1.5
fx_m = -gravconst_m * rx_m / modr3_m
fy_m = -gravconst_m * ry_m / modr3_m
    
xvm += fx_m * dt / Mm
yvm += fy_m * dt / Mm
xm += xvm * dt
ym += yvm * dt
    
xmlist.append(xm)
ymlist.append(ym)

################ Comet ##############
rx_c, ry_c, rz_c = xc - xs, yc - ys, zc - zs
modr3_c = (rx_c**2 + ry_c**2 + rz_c**2)**1.5
fx_c = -gravconst_c * rx_c / modr3_c
fy_c = -gravconst_c * ry_c / modr3_c
    
xvc += fx_c * dt / Mc
yvc += fy_c * dt / Mc
xc += xvc * dt
yc += yvc * dt
    
xclist.append(xc)
yclist.append(yc)

################ Sun ##############
xvs += -(fx_e + fx_m) * dt / Ms
yvs += -(fy_e + fy_m) * dt / Ms
xs += xvs * dt
ys += yvs * dt
xslist.append(xs)
yslist.append(ys)

t += dt





# Your code here 





# Your code here





# Your code here





# Your code here
anim.save("animation.mp4", writer="ffmpeg", fps=20)



