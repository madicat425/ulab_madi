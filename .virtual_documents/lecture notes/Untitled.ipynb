import numpy as np
import matplotlib.pyplot as plt




#making a line plot 
#creating fugure (blank canvas)

plt.figure(figsize=(6,4)) #blank canvas

#data 
x = [1, 2, 3, 4, 5, 6]
y = [3, 6, 9, 12, 15, 18]

#add title
plt.title("X vs. Y (linear relationship)")
plt.xlabel("X axis")
plt.ylabel("Y axis")

#create line plot 
plt.plot(x, y, label="f(x) =3x", linestyle = '--', color="orange")
plt.scatter(x,y, label="data", marker = '*', color="purple")
plt.legend()




#plottting something cool
from PIL import Image



#load image
surprise = Image.open('surprise.webp')



plt.imshow(surprise)
plt.axis('off')
plt.show()


#create range of x-vaues from -2pi to 2pi
#start:stop:step
x_data = np.linspace(-2 * np.pi, 2 * np.pi, 1000)



y_1 = np.sin(x_data) - np.cos(x_data)
y_2 = np.sin(x_data) + np.cos(x_data)



#plotting trig functions 
plt.plot(x_data, y_1)
plt.plot(x_data, y_2)
plt.show()


plt.title("plot of trig fns")
plt.xlabel("x-axis")
plt.ylabel("y-axis")
plt.plot(x_data, y_1, label="sin(x) - cos(x)")
plt.plot(x_data, y_2, label="sin(x) + cos(x)")
plt.fill_between(x_data, y_1
plt.legend(loc = "upper right", bbox_to_anchor=(1.5, 1))
plt.show()
                 


#subplots

fig, ax = plt.subplots(2, 2, figsize=(10,10))
ax[0,0].plot(x,y)
ax[0,1].imshow(surprise)
ax[1,0].plot(x_data, y_1)
ax[1,1].plot(x_data, y_2)

#loop thru sublots
for i, ax in enumerate(ax.flat):
    ax.set_title(f"Frame {i}")

plt.show()



